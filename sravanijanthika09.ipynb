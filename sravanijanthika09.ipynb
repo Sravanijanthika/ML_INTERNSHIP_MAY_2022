{
 "cells": [
  {
   "cell_type": "markdown",
   "id": "920a7843",
   "metadata": {},
   "source": [
    "1.Write a python function which should be capable of finding the factorial of any given number as an\n",
    "argument."
   ]
  },
  {
   "cell_type": "code",
   "execution_count": 2,
   "id": "2902f4db",
   "metadata": {},
   "outputs": [
    {
     "name": "stdout",
     "output_type": "stream",
     "text": [
      "enter any number5\n",
      "120\n"
     ]
    }
   ],
   "source": [
    "def factorial(number):\n",
    "    \"\"\" for factorial\"\"\"\n",
    "    k=1\n",
    "    for i in range(1,number+1):\n",
    "        k=k*i\n",
    "    return k\n",
    "number=int(input(\"enter any number\"))\n",
    "print(factorial(number))"
   ]
  },
  {
   "cell_type": "markdown",
   "id": "cdb65ef1",
   "metadata": {},
   "source": [
    "2.Luke Skywalker has family and friends. Help him remind them who is who. Given a string with a\n",
    "name, return the relation of that person to Luke.\n",
    " Person-- Relation,\n",
    " Darth Vader-- father,\n",
    " Leia --sister,\n",
    " Han-- brother in law,\n",
    " R2D2-- droid,\n",
    "Example : relation_to_luke(\"Darth Vader\") ➞ \"Luke, I am your father.\""
   ]
  },
  {
   "cell_type": "code",
   "execution_count": 6,
   "id": "9ea8e1f2",
   "metadata": {},
   "outputs": [
    {
     "name": "stdout",
     "output_type": "stream",
     "text": [
      "['darth vader', 'leia', 'han', 'r2d2']\n",
      "['father', 'sister', 'brother-in-law', 'droid']\n",
      "enter a person's name:han\n",
      "luke, im your brother-in-law\n"
     ]
    }
   ],
   "source": [
    "dic={\"darth vader\":\"father\",\"leia\":\"sister\",\"han\":\"brother-in-law\",\"r2d2\":\"droid\"}\n",
    "arr1=[]\n",
    "for i in dic.keys(): #loop for storing keys in a list.\n",
    "    arr1.append(i)\n",
    "print(arr1)\n",
    "arr2=[]\n",
    "for i in dic.values(): #loop for storing values in a list.\n",
    "    arr2.append(i)\n",
    "print(arr2)\n",
    "name=input(\"enter a person's name:\")\n",
    "c=name.casefold() #converting the userinput to lowercase .\n",
    "if(c==arr1[0]):\n",
    "    print(\"luke,im your {}\".format(arr2[0]))\n",
    "elif(c==arr1[1]):\n",
    "    print(\"luke, im your {}\".format(arr2[1]))\n",
    "elif(c==arr1[2]):\n",
    "    print(\"luke, im your {}\".format(arr2[2]))\n",
    "elif(c==arr1[3]):\n",
    "    print(\"luke,im your {}\".format(arr2[3]))\n",
    "else:\n",
    "    print(\"no relation with luke\")"
   ]
  },
  {
   "cell_type": "markdown",
   "id": "d5ca5d30",
   "metadata": {},
   "source": [
    "3.Create a function which takes a number as its argument and return the number of digits in it. Use\n",
    "of len function is not allowed. For example for 5 it should return 1, for 32 it should return 2 and 123 ,\n",
    "3 should be returned and so on."
   ]
  },
  {
   "cell_type": "code",
   "execution_count": 10,
   "id": "26d56d7b",
   "metadata": {},
   "outputs": [
    {
     "name": "stdout",
     "output_type": "stream",
     "text": [
      "enter any number:23434930490\n",
      "11\n"
     ]
    }
   ],
   "source": [
    "def digits(number):\n",
    "    \"\"\"this is for counting number of digits in a number\"\"\"\n",
    "    count=0\n",
    "    while (number!=0): \n",
    "        number//=10 #flore division is used because there will be no issue if the given number is float\n",
    "        count=count+1;\n",
    "    return count\n",
    "number=int(input(\"enter any number:\"))\n",
    "print(digits(number))"
   ]
  },
  {
   "cell_type": "markdown",
   "id": "d5bf1c3b",
   "metadata": {},
   "source": [
    "4.Write a function which takes a number as argument suppose 5 and gives results as multiplication\n",
    "of factorial of each positive number less than or equal to the number given. i.e !5*!4*!3*!2*!1 =\n",
    "34560.     "
   ]
  },
  {
   "cell_type": "code",
   "execution_count": 14,
   "id": "3be202dc",
   "metadata": {},
   "outputs": [
    {
     "name": "stdout",
     "output_type": "stream",
     "text": [
      "enter any number:5\n",
      "34560\n"
     ]
    }
   ],
   "source": [
    "def factorial(num):\n",
    "    \"\"\"for factorial\"\"\"\n",
    "    k=1\n",
    "    for i in range(1,num+1):\n",
    "        k=k*i\n",
    "    return k\n",
    "num=int(input(\"enter any number:\"))\n",
    "\n",
    "product=1\n",
    "for j in range(1,num+1):\n",
    "    product=product*factorial(j) # using the fact function to do factorial of decremented numbers\n",
    "print(product)"
   ]
  },
  {
   "cell_type": "markdown",
   "id": "6afd3568",
   "metadata": {},
   "source": [
    "5.Write a function which takes any number of arguments from a user and return the result which\n",
    "should be output of a2 + b2+ c2+... if a , b ,c are numbers supplied ..i.e if 1,2,3 are supplied then result\n",
    "returned should be 14. But user may supply any number of inputs so make the function to adapt to\n",
    "that."
   ]
  },
  {
   "cell_type": "code",
   "execution_count": 58,
   "id": "79eb8f89",
   "metadata": {},
   "outputs": [
    {
     "name": "stdout",
     "output_type": "stream",
     "text": [
      "enter   count of numbers you wanted to enter:4\n",
      "enter  a num:3\n",
      "enter  a num:6\n",
      "enter  a num:8\n",
      "enter  a num:1\n",
      "[3, 6, 8, 1]\n"
     ]
    },
    {
     "data": {
      "text/plain": [
       "110"
      ]
     },
     "execution_count": 58,
     "metadata": {},
     "output_type": "execute_result"
    }
   ],
   "source": [
    "def sqrsum(l):\n",
    "    \n",
    "    sum=0\n",
    "    for number in l:\n",
    "        sum=sum+(number*number) \n",
    "    return sum\n",
    "n=int(input(\"enter   count of numbers you wanted to enter:\"))\n",
    "l=[];\n",
    "for i in range(0 ,n):\n",
    "    numbers =int(input('enter  a num:'))\n",
    "    l.append(numbers)\n",
    "print(l)\n",
    "sqrsum(l)\n",
    "\n",
    "#sqrsum(1,2,3,5,8)"
   ]
  },
  {
   "cell_type": "markdown",
   "id": "3b07259a",
   "metadata": {},
   "source": [
    "6.Write a function which accepts 3 arguments from the user.1 .number 1, 2. Number2 and 3. An\n",
    "operation. The operation supported should be +, -, *, and /. The function should return the result of\n",
    "given operation. For example arguments are 3,2,+ then result returned should be 5.    "
   ]
  },
  {
   "cell_type": "code",
   "execution_count": null,
   "id": "f7e2e0fc",
   "metadata": {},
   "outputs": [],
   "source": [
    "def operation(n1,n2):\n",
    "    op=input(\"enter operation:\")\n",
    "    if(op=='+'):\n",
    "        addition=n1+n2\n",
    "        return(addition)\n",
    "    elif(op=='-'):\n",
    "        substraction=n1-n2\n",
    "        return(substraction)\n",
    "    elif(op=='*'):\n",
    "        multiplication=n1*n2\n",
    "        return(multiplication)\n",
    "    elif(op=='/'):\n",
    "        division=n1/n2\n",
    "        return(division)\n",
    "    else:\n",
    "        return(\"no operation is performed\")\n",
    "n1=int(input(\"enter first number:\"))\n",
    "n2=int(input(\"enter second number:\"))\n",
    "print(\"result is\" ,operation(n1,n2))"
   ]
  },
  {
   "cell_type": "code",
   "execution_count": 56,
   "id": "dc8fcc1f",
   "metadata": {},
   "outputs": [],
   "source": [
    "#result(1,2,3,5,8)"
   ]
  },
  {
   "cell_type": "markdown",
   "id": "c8a72161",
   "metadata": {},
   "source": [
    "7.Write a function which takes an argument which should be a numeric +ve integer. Depending on\n",
    "the input supplied you have to print “I CAN”, “I WILL”. Suppose some one enters argument as 1 then\n",
    "only “I CAN” should be printed. But if some one enters 2 then first “I CAN” should be printed then “I\n",
    "WILL”. And if someone enters 3 then following should be printed in corresponding order: “I CAN”, “I\n",
    "WILL”, “I CAN” and so on for any numbers entered."
   ]
  },
  {
   "cell_type": "code",
   "execution_count": 31,
   "id": "9423e9b9",
   "metadata": {},
   "outputs": [
    {
     "name": "stdout",
     "output_type": "stream",
     "text": [
      "enter any positive integer1\n",
      "i can\n"
     ]
    }
   ],
   "source": [
    "def fun(n):\n",
    "    for i in range(1,n+1): \n",
    "        if(i%2==0):         # this block will give i will for even, i can for odd\n",
    "            print(\"i will\")\n",
    "        else:\n",
    "            print(\"i can\")\n",
    "        \n",
    "n=int(input(\"enter any positive integer\"))    \n",
    "fun(n)"
   ]
  },
  {
   "cell_type": "markdown",
   "id": "880d7ca1",
   "metadata": {},
   "source": [
    "8.We have been given a list of whole numbers which represents the color of each gloves, determine\n",
    "how many pairs of gloves with matching colors there are. For example, there are 7 gloves with\n",
    "colors [1, 2, 1, 2, 1, 3, 2]. There is one pair of color 1 and one of color 2. There are three odd gloves\n",
    "left, one of each color. The number of pairs is 2. Create a function that returns an integer representing\n",
    "the number of matching pairs of gloves that are available."
   ]
  },
  {
   "cell_type": "code",
   "execution_count": 48,
   "id": "5974ace9",
   "metadata": {},
   "outputs": [
    {
     "name": "stdout",
     "output_type": "stream",
     "text": [
      "1 2 1 2 1 4 3\n",
      "no of pairs of gloves are: 2\n",
      "there are  3  gloves left\n"
     ]
    }
   ],
   "source": [
    "def findpairs(l1):\n",
    "    s=set(l1) \n",
    "    l2=list(s) \n",
    "    count=0\n",
    "    for i in l2: \n",
    "        c=0;\n",
    "        for j in l1: \n",
    "            if(i==j) :\n",
    "                c=c+1;\n",
    "        count=count+c//2; \n",
    "    return count\n",
    "l=input().split()\n",
    "l1=[] \n",
    "for i in l:\n",
    "    l1.append(i)\n",
    "k=findpairs(l1)\n",
    "l=len(l)-(2*k)\n",
    "print(\"no of pairs of gloves are:\",k)\n",
    "print(\"there are \",l,\" gloves left\")\n"
   ]
  },
  {
   "cell_type": "markdown",
   "id": "94b4acb5",
   "metadata": {},
   "source": [
    "## 9.Write a function that returns True if two arrays, when combined, form a consecutive sequence. A\n",
    "consecutive sequence is a sequence without any gaps in the integers, e.g. 1, 2, 3, 4, 5 is a\n",
    "consecutive sequence, but 1, 2, 4, 5 is not. Notes\n",
    "• The input lists will have unique values.\n",
    "• The input lists can be in any order.\n",
    "Examples\n",
    "consecutive_combo([7, 4, 5, 1], [2, 3, 6]) ➞ True\n",
    "consecutive_combo([1, 4, 6, 5], [2, 7, 8, 9]) ➞ False\n",
    "consecutive_combo([1, 4, 5, 6], [2, 3, 7, 8, 10]) ➞ False\n",
    "consecutive_combo([44, 46], [45]) ➞ True"
   ]
  },
  {
   "cell_type": "code",
   "execution_count": 53,
   "id": "d6140bc1",
   "metadata": {},
   "outputs": [
    {
     "name": "stdout",
     "output_type": "stream",
     "text": [
      "enter size of first list:4\n",
      "enter size of seond list:3\n",
      "reading first list\n",
      "enter element:5\n",
      "enter element:7\n",
      "enter element:4\n",
      "enter element:1\n",
      "[5, 7, 4, 1]\n",
      "enter  element:5\n",
      "enter  element:3\n",
      "enter  element:7\n",
      "[5, 3, 7]\n",
      "[1, 3, 4, 5, 5, 7, 7]\n"
     ]
    },
    {
     "data": {
      "text/plain": [
       "False"
      ]
     },
     "execution_count": 53,
     "metadata": {},
     "output_type": "execute_result"
    }
   ],
   "source": [
    "def con_seq(l1,l2):\n",
    "    \"\"\"for consecutive sequence\"\"\"\n",
    "    l3=l1+l2  #concatinating the lists\n",
    "    l3.sort()\n",
    "    print(l3)\n",
    "    length=len(l3)\n",
    "    for i in range(1,length):\n",
    "        if(l3[i]!=(l3[i-1]+1)):\n",
    "            return False \n",
    "    return True\n",
    "n1=int(input(\"enter size of first list:\"))\n",
    "n2=int(input(\"enter size of seond list:\"))\n",
    "l1=[];\n",
    "l2=[];\n",
    "print(\"reading first list\")\n",
    "for i in range(0,n1):\n",
    "    k=int(input(\"enter element:\"))\n",
    "    l1.append(k)\n",
    "print(l1)\n",
    "for j in range (0,n2):\n",
    "    m=int(input(\"enter  element:\"))\n",
    "    l2.append(m);\n",
    "print(l2)\n",
    "con_seq(l1,l2)\n"
   ]
  },
  {
   "cell_type": "markdown",
   "id": "fbf5bdb9",
   "metadata": {},
   "source": [
    "#### 10.You work for a manufacturer, and have been asked to calculate the total profit made on the sales\n",
    "of a product. You are given a dictionary containing the cost price per unit (in dollars), sell price per\n",
    "unit (in dollars), and the starting inventory. Return the total profit made, rounded to the nearest\n",
    "dollar."
   ]
  },
  {
   "cell_type": "code",
   "execution_count": 54,
   "id": "e9037490",
   "metadata": {},
   "outputs": [
    {
     "name": "stdout",
     "output_type": "stream",
     "text": [
      "14795.999999999998\n"
     ]
    }
   ],
   "source": [
    "d={\"cost_price\":32.67,\"sell_price\":45.00} # providing the information about product\n",
    "inventory=1200\n",
    "a=d.get(\"cost_price\") #taking cost price from the dict and storing in a\n",
    "b=d.get(\"sell_price\") #taking sell price from the dict and storing in b\n",
    "profit=(b-a)*inventory #calculating the profit\n",
    "print(profit)"
   ]
  },
  {
   "cell_type": "code",
   "execution_count": null,
   "id": "2814d276",
   "metadata": {},
   "outputs": [],
   "source": []
  },
  {
   "cell_type": "code",
   "execution_count": null,
   "id": "7f305d8a",
   "metadata": {},
   "outputs": [],
   "source": []
  },
  {
   "cell_type": "code",
   "execution_count": null,
   "id": "7decf46e",
   "metadata": {},
   "outputs": [],
   "source": []
  },
  {
   "cell_type": "code",
   "execution_count": null,
   "id": "dfbe1a0d",
   "metadata": {},
   "outputs": [],
   "source": []
  },
  {
   "cell_type": "code",
   "execution_count": null,
   "id": "aa6c5a93",
   "metadata": {},
   "outputs": [],
   "source": []
  },
  {
   "cell_type": "code",
   "execution_count": null,
   "id": "5a43c230",
   "metadata": {},
   "outputs": [],
   "source": []
  },
  {
   "cell_type": "code",
   "execution_count": null,
   "id": "8662d6a3",
   "metadata": {},
   "outputs": [],
   "source": []
  },
  {
   "cell_type": "code",
   "execution_count": null,
   "id": "110663da",
   "metadata": {},
   "outputs": [],
   "source": []
  },
  {
   "cell_type": "code",
   "execution_count": null,
   "id": "cc20fb91",
   "metadata": {},
   "outputs": [],
   "source": []
  }
 ],
 "metadata": {
  "kernelspec": {
   "display_name": "Python 3 (ipykernel)",
   "language": "python",
   "name": "python3"
  },
  "language_info": {
   "codemirror_mode": {
    "name": "ipython",
    "version": 3
   },
   "file_extension": ".py",
   "mimetype": "text/x-python",
   "name": "python",
   "nbconvert_exporter": "python",
   "pygments_lexer": "ipython3",
   "version": "3.9.12"
  }
 },
 "nbformat": 4,
 "nbformat_minor": 5
}
